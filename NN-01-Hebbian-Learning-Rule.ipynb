{
 "cells": [
  {
   "cell_type": "markdown",
   "id": "20f07bee",
   "metadata": {
    "papermill": {
     "duration": 0.009942,
     "end_time": "2023-11-16T15:02:58.358534",
     "exception": false,
     "start_time": "2023-11-16T15:02:58.348592",
     "status": "completed"
    },
    "tags": []
   },
   "source": [
    "# <center><font  color=\"blue\" style=\"background-color:#48f267\" size=\"+5\">This Code Is About Hebbian Learning Rule In Neural Network(NN)</font></center>"
   ]
  },
  {
   "attachments": {
    "f32f01ba-581a-4e38-bc23-0fdc8b5a2bac.png": {
     "image/png": "[encoded data removed]"
    }
   },
   "cell_type": "markdown",
   "id": "35693d9f",
   "metadata": {
    "papermill": {
     "duration": 0.009958,
     "end_time": "2023-11-16T15:02:58.378313",
     "exception": false,
     "start_time": "2023-11-16T15:02:58.368355",
     "status": "completed"
    },
    "tags": []
   },
   "source": [
    "## <font  color=\"blue\" style=\"background-color:#48f267\" >This is one layer model of neural network:</font>\n",
    "![download.png](attachment:f32f01ba-581a-4e38-bc23-0fdc8b5a2bac.png)"
   ]
  },
  {
   "cell_type": "markdown",
   "id": "5f45b14f",
   "metadata": {
    "papermill": {
     "duration": 0.009359,
     "end_time": "2023-11-16T15:02:58.397493",
     "exception": false,
     "start_time": "2023-11-16T15:02:58.388134",
     "status": "completed"
    },
    "tags": []
   },
   "source": [
    "# <font  color=\"aqua\" style=\"background-color:blue\" > Hebb's law is one of the earliest and simplest learning rules in neural networks.</font>\n",
    "# <font  color=\"aqua\" style=\"background-color:blue\" >This rule is suitable for neural networks with one layer.</font>\n",
    "\n",
    "# <font  color=\"aqua\" style=\"background-color:blue\" >It is used to train neural networks.</font>\n",
    "# <font  color=\"aqua\" style=\"background-color:blue\" >when a neuron repeatedly and simultaneously fires with another neuron,the weight between these two neurons is strengthened.</font>\n",
    "# <font  color=\"aqua\" style=\"background-color:blue\" >This law is used to learn patterns in neural networks.</font>"
   ]
  },
  {
   "cell_type": "markdown",
   "id": "5c0f0ae7",
   "metadata": {
    "papermill": {
     "duration": 0.009671,
     "end_time": "2023-11-16T15:02:58.417045",
     "exception": false,
     "start_time": "2023-11-16T15:02:58.407374",
     "status": "completed"
    },
    "tags": []
   },
   "source": [
    "* ## <font  color=\"blue\" style=\"background-color:#48f267\" size =\"+8\">Contents</font>"
   ]
  },
  {
   "cell_type": "markdown",
   "id": "73e56793",
   "metadata": {
    "papermill": {
     "duration": 0.009426,
     "end_time": "2023-11-16T15:02:58.436239",
     "exception": false,
     "start_time": "2023-11-16T15:02:58.426813",
     "status": "completed"
    },
    "tags": []
   },
   "source": [
    "* ## [<font  color=\"blue\" style=\"background-color:#48f267\" >***Step0:Import Libraries***</font>](#h1)\n",
    "* ### [<font  color=\"blue\" style=\"background-color:#48f267\" >***Step0_1:Definition Of Variables***</font>](#h2)\n",
    "* ### [<font  color=\"blue\" style=\"background-color:#48f267\" >***Step0_2:Definition Of Functions***</font>](#h3)\n",
    "\n",
    "* ## [<font  color=\"blue\" style=\"background-color:#48f267\" >***Step1:AND function with hebbian learning***</font>](#h4)\n",
    "* ### [<font  color=\"blue\" style=\"background-color:#f957e1\" >***inputs: bipolar***</font>](#h5)\n",
    "* ### [<font  color=\"blue\" style=\"background-color:#f957e1\" >***outputs: bipolar***</font>](#h6)\n",
    "\n",
    "* ## [<font  color=\"blue\" style=\"background-color:#48f267\" >***Step2:AND function with hebbian learning***</font>](#h7)\n",
    "* ### [<font  color=\"blue\" style=\"background-color:#f957e1\" >***inputs: bipolar***</font>](#h8)\n",
    "* ### [<font  color=\"blue\" style=\"background-color:#f957e1\" >***outputs: binary***</font>](#h9)\n",
    "\n",
    "* ## [<font  color=\"blue\" style=\"background-color:#48f267\" >***Step3:OR function with hebbian learning***</font>](#h10)\n",
    "* ### [<font  color=\"blue\" style=\"background-color:#f957e1\" >***inputs: bipolar***</font>](#h11)\n",
    "* ### [<font  color=\"blue\" style=\"background-color:#f957e1\" >***outputs: bipolar***</font>](#h12)\n",
    "\n",
    "* ## [<font  color=\"blue\" style=\"background-color:#48f267\" >***Step4:OR function with hebbian learning***</font>](#h13)\n",
    "* ### [<font  color=\"blue\" style=\"background-color:#f957e1\" >***inputs: bipolar***</font>](#h14)\n",
    "* ### [<font  color=\"blue\" style=\"background-color:#f957e1\" >***outputs: binary***</font>](#h15)\n",
    "\n",
    "* ## [<font  color=\"blue\" style=\"background-color:#48f267\" >***Step5:AND function with hebbian learning***</font>](#h16)\n",
    "* ### [<font  color=\"blue\" style=\"background-color:#f957e1\" >***inputs: binary***</font>](#h17)\n",
    "* ### [<font  color=\"blue\" style=\"background-color:#f957e1\" >***outputs: bipolar***</font>](#h18)\n",
    "\n",
    "* ## [<font  color=\"blue\" style=\"background-color:#48f267\" >***Step6:AND function with hebbian learning***</font>](#h19)\n",
    "* ### [<font  color=\"blue\" style=\"background-color:#f957e1\" >***inputs: binary***</font>](#h20)\n",
    "* ### [<font  color=\"blue\" style=\"background-color:#f957e1\" >***outputs: binary***</font>](#h21)\n",
    "\n",
    "* ## [<font  color=\"blue\" style=\"background-color:#48f267\" >***Step7:OR function with hebbian learning***</font>](#h22)\n",
    "* ### [<font  color=\"blue\" style=\"background-color:#f957e1\" >***inputs: binary***</font>](#h23)\n",
    "* ### [<font  color=\"blue\" style=\"background-color:#f957e1\" >***outputs: bipolar***</font>](#h24)\n",
    "\n",
    "* ## [<font  color=\"blue\" style=\"background-color:#48f267\" >***Step8:OR function with hebbian learning***</font>](#h25)\n",
    "* ### [<font  color=\"blue\" style=\"background-color:#f957e1\" >***inputs: binary***</font>](#h26)\n",
    "* ### [<font  color=\"blue\" style=\"background-color:#f957e1\" >***outputs: binary***</font>](#h27)\n",
    "\n",
    "* ## [<font  color=\"blue\" style=\"background-color:#48f267\" >***Step9:Conclusion***</font>](#h28)"
   ]
  },
  {
   "cell_type": "markdown",
   "id": "9ab71ad4",
   "metadata": {
    "papermill": {
     "duration": 0.009385,
     "end_time": "2023-11-16T15:02:58.455561",
     "exception": false,
     "start_time": "2023-11-16T15:02:58.446176",
     "status": "completed"
    },
    "tags": []
   },
   "source": [
    "## <font  color=\"blue\" style=\"background-color:#48f267\" >***Step0:Import Libraries***</font> <a class=\"anchor\"  id=\"h1\"></a>"
   ]
  },
  {
   "cell_type": "code",
   "execution_count": 1,
   "id": "33bdf900",
   "metadata": {
    "execution": {
     "iopub.execute_input": "2023-11-16T15:02:58.477452Z",
     "iopub.status.busy": "2023-11-16T15:02:58.476919Z",
     "iopub.status.idle": "2023-11-16T15:02:58.487438Z",
     "shell.execute_reply": "2023-11-16T15:02:58.486468Z"
    },
    "papermill": {
     "duration": 0.024568,
     "end_time": "2023-11-16T15:02:58.489678",
     "exception": false,
     "start_time": "2023-11-16T15:02:58.465110",
     "status": "completed"
    },
    "tags": []
   },
   "outputs": [],
   "source": [
    "import numpy as np\n",
    "import matplotlib.pyplot as plt"
   ]
  },
  {
   "cell_type": "markdown",
   "id": "c1b780cb",
   "metadata": {
    "papermill": {
     "duration": 0.009531,
     "end_time": "2023-11-16T15:02:58.509231",
     "exception": false,
     "start_time": "2023-11-16T15:02:58.499700",
     "status": "completed"
    },
    "tags": []
   },
   "source": [
    "## <font  color=\"blue\" style=\"background-color:#48f267\" >***Step0_1:Definition Of Variables***</font><a class=\"anchor\"  id=\"h2\"></a>"
   ]
  },
  {
   "cell_type": "code",
   "execution_count": 2,
   "id": "0460913a",
   "metadata": {
    "execution": {
     "iopub.execute_input": "2023-11-16T15:02:58.530976Z",
     "iopub.status.busy": "2023-11-16T15:02:58.529928Z",
     "iopub.status.idle": "2023-11-16T15:02:58.534691Z",
     "shell.execute_reply": "2023-11-16T15:02:58.533554Z"
    },
    "papermill": {
     "duration": 0.017803,
     "end_time": "2023-11-16T15:02:58.536869",
     "exception": false,
     "start_time": "2023-11-16T15:02:58.519066",
     "status": "completed"
    },
    "tags": []
   },
   "outputs": [],
   "source": [
    "w_old = [0,0]\n",
    "b = 1\n",
    "b_old = 0"
   ]
  },
  {
   "cell_type": "markdown",
   "id": "af8785a3",
   "metadata": {
    "papermill": {
     "duration": 0.009602,
     "end_time": "2023-11-16T15:02:58.556893",
     "exception": false,
     "start_time": "2023-11-16T15:02:58.547291",
     "status": "completed"
    },
    "tags": []
   },
   "source": [
    "## <font  color=\"blue\" style=\"background-color:#48f267\" >***Step0_2:Definition Of Functions***</font><a class=\"anchor\"  id=\"h3\"></a>"
   ]
  },
  {
   "cell_type": "code",
   "execution_count": 3,
   "id": "4d7bca65",
   "metadata": {
    "execution": {
     "iopub.execute_input": "2023-11-16T15:02:58.577816Z",
     "iopub.status.busy": "2023-11-16T15:02:58.577407Z",
     "iopub.status.idle": "2023-11-16T15:02:58.585176Z",
     "shell.execute_reply": "2023-11-16T15:02:58.584237Z"
    },
    "papermill": {
     "duration": 0.020709,
     "end_time": "2023-11-16T15:02:58.587342",
     "exception": false,
     "start_time": "2023-11-16T15:02:58.566633",
     "status": "completed"
    },
    "tags": []
   },
   "outputs": [],
   "source": [
    "def hebbian_bipolar(data, label,w_old,b_old,b):\n",
    "    for i in range(data.shape[0]):\n",
    "             Dw=data[i,:]*label[i]\n",
    "    b=label[i]\n",
    "    for i in range(data.shape[0]):\n",
    "        w_new=w_old+data[i,:]*label[i]#Dw[i]\n",
    "        b_new=b_old+label[i]\n",
    "        w_old=w_new\n",
    "        b_old=b_new\n",
    "        y_pred=np.dot(w_old.T , data[i])+b\n",
    "        if (y_pred>=0).all():\n",
    "            y_pred=1\n",
    "        elif (y_pred<0).all():\n",
    "            y_pred =-1\n",
    "        print('y_pred ',y_pred,'\\t', 'label',label[i],'\\t','w_new', w_new,'b_new', b_new)"
   ]
  },
  {
   "cell_type": "code",
   "execution_count": 4,
   "id": "9cca52a9",
   "metadata": {
    "execution": {
     "iopub.execute_input": "2023-11-16T15:02:58.608897Z",
     "iopub.status.busy": "2023-11-16T15:02:58.608496Z",
     "iopub.status.idle": "2023-11-16T15:02:58.615877Z",
     "shell.execute_reply": "2023-11-16T15:02:58.614833Z"
    },
    "papermill": {
     "duration": 0.020588,
     "end_time": "2023-11-16T15:02:58.617993",
     "exception": false,
     "start_time": "2023-11-16T15:02:58.597405",
     "status": "completed"
    },
    "tags": []
   },
   "outputs": [],
   "source": [
    "def hebbian_binary(data, label,w_old,b_old,b):\n",
    "    for i in range(data.shape[0]):\n",
    "             Dw=data[i,:]*label[i]\n",
    "    b=label[i]\n",
    "    for i in range(data.shape[0]):\n",
    "        w_new=w_old+data[i,:]*label[i]#Dw[i]\n",
    "        b_new=b_old+label[i]\n",
    "        w_old=w_new\n",
    "        b_old=b_new\n",
    "        y_pred=np.dot(w_old.T , data[i])+b\n",
    "        if (y_pred>=0).all():\n",
    "            y_pred=1\n",
    "        elif (y_pred<0).all():\n",
    "            y_pred =0\n",
    "        print('y_pred ',y_pred,'\\t', 'label',label[i],'\\t','w_new', w_new,'b_new', b_new)"
   ]
  },
  {
   "cell_type": "code",
   "execution_count": 5,
   "id": "a8b956b3",
   "metadata": {
    "execution": {
     "iopub.execute_input": "2023-11-16T15:02:58.639184Z",
     "iopub.status.busy": "2023-11-16T15:02:58.638509Z",
     "iopub.status.idle": "2023-11-16T15:02:58.646484Z",
     "shell.execute_reply": "2023-11-16T15:02:58.645357Z"
    },
    "papermill": {
     "duration": 0.020707,
     "end_time": "2023-11-16T15:02:58.648551",
     "exception": false,
     "start_time": "2023-11-16T15:02:58.627844",
     "status": "completed"
    },
    "tags": []
   },
   "outputs": [],
   "source": [
    "def plots(data, label,w_old,b_old,b):\n",
    "    \n",
    "    ########################\n",
    "    for i in range(data.shape[0]):\n",
    "             Dw=data[i,:]*label[i]\n",
    "    b=label[i]\n",
    "    for i in range(data.shape[0]):\n",
    "        w_new=w_old+data[i,:]*label[i]#Dw[i]\n",
    "        b_new=b_old+label[i]\n",
    "        w_old=w_new\n",
    "        b_old=b_new\n",
    "    #######################\n",
    "    plt.scatter(data[:,0],data[:,1], s=100, c=label)\n",
    "    test = np.array([-2,-1,-0.5,-0.3,-0.2,0,0.2,0.3,0.5,1,2])\n",
    "    test_x2 = -(w_new[1]/w_new[0])*test-b_new/w_new[0] # w1x1+w2x2+b=0  ->  x2=-(w1x1)/w2-b/w2\n",
    "    return plt.plot(test,test_x2)"
   ]
  },
  {
   "cell_type": "markdown",
   "id": "a325ffd0",
   "metadata": {
    "papermill": {
     "duration": 0.009313,
     "end_time": "2023-11-16T15:02:58.667824",
     "exception": false,
     "start_time": "2023-11-16T15:02:58.658511",
     "status": "completed"
    },
    "tags": []
   },
   "source": [
    "## <font  color=\"blue\" style=\"background-color:#48f267\" >***Step1:AND function with hebbian learning***</font><a class=\"anchor\"  id=\"h4\"></a>\n",
    "### <font  color=\"blue\" style=\"background-color:#f957e1\" >***inputs: bipolar***</font><a class=\"anchor\"  id=\"h5\"></a>\n",
    "### <font  color=\"blue\" style=\"background-color:#f957e1\" >***outputs: bipolar***</font><a class=\"anchor\"  id=\"h6\"></a>"
   ]
  },
  {
   "cell_type": "code",
   "execution_count": 6,
   "id": "ddf7380e",
   "metadata": {
    "execution": {
     "iopub.execute_input": "2023-11-16T15:02:58.691891Z",
     "iopub.status.busy": "2023-11-16T15:02:58.691186Z",
     "iopub.status.idle": "2023-11-16T15:02:58.695525Z",
     "shell.execute_reply": "2023-11-16T15:02:58.694826Z"
    },
    "papermill": {
     "duration": 0.020077,
     "end_time": "2023-11-16T15:02:58.697583",
     "exception": false,
     "start_time": "2023-11-16T15:02:58.677506",
     "status": "completed"
    },
    "tags": []
   },
   "outputs": [],
   "source": [
    "data = np.array([[1,1],[1,-1],[-1,1],[-1 , -1]])\n",
    "label=[1,-1,-1,-1]"
   ]
  },
  {
   "cell_type": "code",
   "execution_count": 7,
   "id": "8c7b6231",
   "metadata": {
    "execution": {
     "iopub.execute_input": "2023-11-16T15:02:58.718656Z",
     "iopub.status.busy": "2023-11-16T15:02:58.718075Z",
     "iopub.status.idle": "2023-11-16T15:02:58.727058Z",
     "shell.execute_reply": "2023-11-16T15:02:58.725805Z"
    },
    "papermill": {
     "duration": 0.021865,
     "end_time": "2023-11-16T15:02:58.729126",
     "exception": false,
     "start_time": "2023-11-16T15:02:58.707261",
     "status": "completed"
    },
    "tags": []
   },
   "outputs": [
    {
     "name": "stdout",
     "output_type": "stream",
     "text": [
      "y_pred  1 \t label 1 \t w_new [1 1] b_new 1\n",
      "y_pred  -1 \t label -1 \t w_new [0 2] b_new 0\n",
      "y_pred  -1 \t label -1 \t w_new [1 1] b_new -1\n",
      "y_pred  -1 \t label -1 \t w_new [2 2] b_new -2\n"
     ]
    }
   ],
   "source": [
    "hebbian_bipolar(data, label,w_old,b_old,b)"
   ]
  },
  {
   "cell_type": "code",
   "execution_count": 8,
   "id": "91d18015",
   "metadata": {
    "execution": {
     "iopub.execute_input": "2023-11-16T15:02:58.751060Z",
     "iopub.status.busy": "2023-11-16T15:02:58.750028Z",
     "iopub.status.idle": "2023-11-16T15:02:59.060353Z",
     "shell.execute_reply": "2023-11-16T15:02:59.059058Z"
    },
    "papermill": {
     "duration": 0.323993,
     "end_time": "2023-11-16T15:02:59.063140",
     "exception": false,
     "start_time": "2023-11-16T15:02:58.739147",
     "status": "completed"
    },
    "tags": []
   },
   "outputs": [
    {
     "data": {
      "text/plain": [
       "[<matplotlib.lines.Line2D at 0x79bb40668940>]"
      ]
     },
     "execution_count": 8,
     "metadata": {},
     "output_type": "execute_result"
    },
    {
     "data": {
      "image/png": "[encoded data removed]",
      "text/plain": [
       "<Figure size 640x480 with 1 Axes>"
      ]
     },
     "metadata": {},
     "output_type": "display_data"
    }
   ],
   "source": [
    "plots(data, label,w_old,b_old,b)"
   ]
  },
  {
   "cell_type": "markdown",
   "id": "b51c7b2d",
   "metadata": {
    "papermill": {
     "duration": 0.010063,
     "end_time": "2023-11-16T15:02:59.083710",
     "exception": false,
     "start_time": "2023-11-16T15:02:59.073647",
     "status": "completed"
    },
    "tags": []
   },
   "source": [
    "## <font  color=\"blue\" style=\"background-color:#48f267\" >***Step2:AND function with hebbian learning***</font><a class=\"anchor\"  id=\"h7\"></a>\n",
    "### <font  color=\"blue\" style=\"background-color:#f957e1\" >***inputs: bipolar***</font><a class=\"anchor\"  id=\"h8\"></a>\n",
    "### <font  color=\"blue\" style=\"background-color:#f957e1\" >***outputs: binary***</font><a class=\"anchor\"  id=\"h9\"></a>"
   ]
  },
  {
   "cell_type": "code",
   "execution_count": 9,
   "id": "c37d0de9",
   "metadata": {
    "execution": {
     "iopub.execute_input": "2023-11-16T15:02:59.106218Z",
     "iopub.status.busy": "2023-11-16T15:02:59.105571Z",
     "iopub.status.idle": "2023-11-16T15:02:59.110771Z",
     "shell.execute_reply": "2023-11-16T15:02:59.109745Z"
    },
    "papermill": {
     "duration": 0.018794,
     "end_time": "2023-11-16T15:02:59.112879",
     "exception": false,
     "start_time": "2023-11-16T15:02:59.094085",
     "status": "completed"
    },
    "tags": []
   },
   "outputs": [],
   "source": [
    "data = np.array([[1,1],[1,-1],[-1,1],[-1 , -1]])\n",
    "label=[1,0,0,0]"
   ]
  },
  {
   "cell_type": "code",
   "execution_count": 10,
   "id": "36b5649c",
   "metadata": {
    "execution": {
     "iopub.execute_input": "2023-11-16T15:02:59.197137Z",
     "iopub.status.busy": "2023-11-16T15:02:59.196742Z",
     "iopub.status.idle": "2023-11-16T15:02:59.203131Z",
     "shell.execute_reply": "2023-11-16T15:02:59.202031Z"
    },
    "papermill": {
     "duration": 0.021203,
     "end_time": "2023-11-16T15:02:59.205858",
     "exception": false,
     "start_time": "2023-11-16T15:02:59.184655",
     "status": "completed"
    },
    "tags": []
   },
   "outputs": [
    {
     "name": "stdout",
     "output_type": "stream",
     "text": [
      "y_pred  1 \t label 1 \t w_new [1 1] b_new 1\n",
      "y_pred  1 \t label 0 \t w_new [1 1] b_new 1\n",
      "y_pred  1 \t label 0 \t w_new [1 1] b_new 1\n",
      "y_pred  0 \t label 0 \t w_new [1 1] b_new 1\n"
     ]
    }
   ],
   "source": [
    "hebbian_binary(data, label,w_old,b_old,b)"
   ]
  },
  {
   "cell_type": "code",
   "execution_count": 11,
   "id": "3df9093f",
   "metadata": {
    "execution": {
     "iopub.execute_input": "2023-11-16T15:02:59.228806Z",
     "iopub.status.busy": "2023-11-16T15:02:59.228434Z",
     "iopub.status.idle": "2023-11-16T15:02:59.467136Z",
     "shell.execute_reply": "2023-11-16T15:02:59.466024Z"
    },
    "papermill": {
     "duration": 0.253015,
     "end_time": "2023-11-16T15:02:59.469495",
     "exception": false,
     "start_time": "2023-11-16T15:02:59.216480",
     "status": "completed"
    },
    "tags": []
   },
   "outputs": [
    {
     "data": {
      "text/plain": [
       "[<matplotlib.lines.Line2D at 0x79bb40553220>]"
      ]
     },
     "execution_count": 11,
     "metadata": {},
     "output_type": "execute_result"
    },
    {
     "data": {
      "image/png": "[encoded data removed]",
      "text/plain": [
       "<Figure size 640x480 with 1 Axes>"
      ]
     },
     "metadata": {},
     "output_type": "display_data"
    }
   ],
   "source": [
    "plots(data, label,w_old,b_old,b)"
   ]
  },
  {
   "cell_type": "markdown",
   "id": "62e6101d",
   "metadata": {
    "papermill": {
     "duration": 0.011262,
     "end_time": "2023-11-16T15:02:59.492199",
     "exception": false,
     "start_time": "2023-11-16T15:02:59.480937",
     "status": "completed"
    },
    "tags": []
   },
   "source": [
    "## <font  color=\"blue\" style=\"background-color:#48f267\" >***Step3:OR function with hebbian learning***</font><a class=\"anchor\"  id=\"h10\"></a>\n",
    "### <font  color=\"blue\" style=\"background-color:#f957e1\" >***inputs: bipolar***</font><a class=\"anchor\"  id=\"h11\"></a>\n",
    "### <font  color=\"blue\" style=\"background-color:#f957e1\" >***outputs: bipolar***</font><a class=\"anchor\"  id=\"h12\"></a>"
   ]
  },
  {
   "cell_type": "code",
   "execution_count": 12,
   "id": "faf0984c",
   "metadata": {
    "execution": {
     "iopub.execute_input": "2023-11-16T15:02:59.516924Z",
     "iopub.status.busy": "2023-11-16T15:02:59.516514Z",
     "iopub.status.idle": "2023-11-16T15:02:59.522178Z",
     "shell.execute_reply": "2023-11-16T15:02:59.521004Z"
    },
    "papermill": {
     "duration": 0.020815,
     "end_time": "2023-11-16T15:02:59.524526",
     "exception": false,
     "start_time": "2023-11-16T15:02:59.503711",
     "status": "completed"
    },
    "tags": []
   },
   "outputs": [],
   "source": [
    "data = np.array([[1,1],[1,-1],[-1,1],[-1 , -1]])\n",
    "label=[1,1,1,-1]"
   ]
  },
  {
   "cell_type": "code",
   "execution_count": 13,
   "id": "9489baed",
   "metadata": {
    "execution": {
     "iopub.execute_input": "2023-11-16T15:02:59.548698Z",
     "iopub.status.busy": "2023-11-16T15:02:59.548304Z",
     "iopub.status.idle": "2023-11-16T15:02:59.553434Z",
     "shell.execute_reply": "2023-11-16T15:02:59.552714Z"
    },
    "papermill": {
     "duration": 0.020071,
     "end_time": "2023-11-16T15:02:59.555813",
     "exception": false,
     "start_time": "2023-11-16T15:02:59.535742",
     "status": "completed"
    },
    "tags": []
   },
   "outputs": [
    {
     "name": "stdout",
     "output_type": "stream",
     "text": [
      "y_pred  1 \t label 1 \t w_new [1 1] b_new 1\n",
      "y_pred  1 \t label 1 \t w_new [2 0] b_new 2\n",
      "y_pred  -1 \t label 1 \t w_new [1 1] b_new 3\n",
      "y_pred  -1 \t label -1 \t w_new [2 2] b_new 2\n"
     ]
    }
   ],
   "source": [
    "hebbian_bipolar(data, label,w_old,b_old,b)"
   ]
  },
  {
   "cell_type": "code",
   "execution_count": 14,
   "id": "1191f9ce",
   "metadata": {
    "execution": {
     "iopub.execute_input": "2023-11-16T15:02:59.579889Z",
     "iopub.status.busy": "2023-11-16T15:02:59.579504Z",
     "iopub.status.idle": "2023-11-16T15:02:59.810362Z",
     "shell.execute_reply": "2023-11-16T15:02:59.809255Z"
    },
    "papermill": {
     "duration": 0.245669,
     "end_time": "2023-11-16T15:02:59.812755",
     "exception": false,
     "start_time": "2023-11-16T15:02:59.567086",
     "status": "completed"
    },
    "tags": []
   },
   "outputs": [
    {
     "data": {
      "text/plain": [
       "[<matplotlib.lines.Line2D at 0x79bb403dba90>]"
      ]
     },
     "execution_count": 14,
     "metadata": {},
     "output_type": "execute_result"
    },
    {
     "data": {
      "image/png": "[encoded data removed]",
      "text/plain": [
       "<Figure size 640x480 with 1 Axes>"
      ]
     },
     "metadata": {},
     "output_type": "display_data"
    }
   ],
   "source": [
    "plots(data, label,w_old,b_old,b)"
   ]
  },
  {
   "cell_type": "markdown",
   "id": "4e121137",
   "metadata": {
    "papermill": {
     "duration": 0.011557,
     "end_time": "2023-11-16T15:02:59.836298",
     "exception": false,
     "start_time": "2023-11-16T15:02:59.824741",
     "status": "completed"
    },
    "tags": []
   },
   "source": [
    "## <font  color=\"blue\" style=\"background-color:#48f267\" >***Step4:OR function with hebbian learning***</font><a class=\"anchor\"  id=\"h13\"></a>\n",
    "### <font  color=\"blue\" style=\"background-color:#f957e1\" >***inputs: bipolar***</font><a class=\"anchor\"  id=\"h14\"></a>\n",
    "### <font  color=\"blue\" style=\"background-color:#f957e1\" >***outputs: binary***</font><a class=\"anchor\"  id=\"h15\"></a>"
   ]
  },
  {
   "cell_type": "code",
   "execution_count": 15,
   "id": "34f0c882",
   "metadata": {
    "execution": {
     "iopub.execute_input": "2023-11-16T15:02:59.862815Z",
     "iopub.status.busy": "2023-11-16T15:02:59.862394Z",
     "iopub.status.idle": "2023-11-16T15:02:59.867313Z",
     "shell.execute_reply": "2023-11-16T15:02:59.866267Z"
    },
    "papermill": {
     "duration": 0.021396,
     "end_time": "2023-11-16T15:02:59.869478",
     "exception": false,
     "start_time": "2023-11-16T15:02:59.848082",
     "status": "completed"
    },
    "tags": []
   },
   "outputs": [],
   "source": [
    "data = np.array([[1,1],[1,-1],[-1,1],[-1 , -1]])\n",
    "label=[1,1,1,0]"
   ]
  },
  {
   "cell_type": "code",
   "execution_count": 16,
   "id": "1dde82a9",
   "metadata": {
    "execution": {
     "iopub.execute_input": "2023-11-16T15:02:59.896025Z",
     "iopub.status.busy": "2023-11-16T15:02:59.894841Z",
     "iopub.status.idle": "2023-11-16T15:02:59.901146Z",
     "shell.execute_reply": "2023-11-16T15:02:59.900171Z"
    },
    "papermill": {
     "duration": 0.021882,
     "end_time": "2023-11-16T15:02:59.903396",
     "exception": false,
     "start_time": "2023-11-16T15:02:59.881514",
     "status": "completed"
    },
    "tags": []
   },
   "outputs": [
    {
     "name": "stdout",
     "output_type": "stream",
     "text": [
      "y_pred  1 \t label 1 \t w_new [1 1] b_new 1\n",
      "y_pred  1 \t label 1 \t w_new [2 0] b_new 2\n",
      "y_pred  1 \t label 1 \t w_new [1 1] b_new 3\n",
      "y_pred  0 \t label 0 \t w_new [1 1] b_new 3\n"
     ]
    }
   ],
   "source": [
    "hebbian_binary(data, label,w_old,b_old,b)"
   ]
  },
  {
   "cell_type": "code",
   "execution_count": 17,
   "id": "088f9097",
   "metadata": {
    "execution": {
     "iopub.execute_input": "2023-11-16T15:02:59.929977Z",
     "iopub.status.busy": "2023-11-16T15:02:59.928854Z",
     "iopub.status.idle": "2023-11-16T15:03:00.150479Z",
     "shell.execute_reply": "2023-11-16T15:03:00.149634Z"
    },
    "papermill": {
     "duration": 0.237233,
     "end_time": "2023-11-16T15:03:00.152757",
     "exception": false,
     "start_time": "2023-11-16T15:02:59.915524",
     "status": "completed"
    },
    "tags": []
   },
   "outputs": [
    {
     "data": {
      "text/plain": [
       "[<matplotlib.lines.Line2D at 0x79bb40498070>]"
      ]
     },
     "execution_count": 17,
     "metadata": {},
     "output_type": "execute_result"
    },
    {
     "data": {
      "image/png": "[encoded data removed]",
      "text/plain": [
       "<Figure size 640x480 with 1 Axes>"
      ]
     },
     "metadata": {},
     "output_type": "display_data"
    }
   ],
   "source": [
    "plots(data, label,w_old,b_old,b)"
   ]
  },
  {
   "cell_type": "markdown",
   "id": "c6fb2d35",
   "metadata": {
    "papermill": {
     "duration": 0.012065,
     "end_time": "2023-11-16T15:03:00.177711",
     "exception": false,
     "start_time": "2023-11-16T15:03:00.165646",
     "status": "completed"
    },
    "tags": []
   },
   "source": [
    "## <font  color=\"blue\" style=\"background-color:#48f267\" >***Step5:AND function with hebbian learning***</font><a class=\"anchor\"  id=\"h16\"></a>\n",
    "### <font  color=\"blue\" style=\"background-color:#f957e1\" >***inputs: binary***</font><a class=\"anchor\"  id=\"h17\"></a>\n",
    "### <font  color=\"blue\" style=\"background-color:#f957e1\" >***outputs: bipolar***</font><a class=\"anchor\"  id=\"h18\"></a>"
   ]
  },
  {
   "cell_type": "code",
   "execution_count": 18,
   "id": "2433221d",
   "metadata": {
    "execution": {
     "iopub.execute_input": "2023-11-16T15:03:00.205158Z",
     "iopub.status.busy": "2023-11-16T15:03:00.203842Z",
     "iopub.status.idle": "2023-11-16T15:03:00.209641Z",
     "shell.execute_reply": "2023-11-16T15:03:00.208439Z"
    },
    "papermill": {
     "duration": 0.022061,
     "end_time": "2023-11-16T15:03:00.212199",
     "exception": false,
     "start_time": "2023-11-16T15:03:00.190138",
     "status": "completed"
    },
    "tags": []
   },
   "outputs": [],
   "source": [
    "data = np.array([[1,1],[1,0],[0,1],[0 , 0]])\n",
    "label=[1,-1,-1,-1]"
   ]
  },
  {
   "cell_type": "code",
   "execution_count": 19,
   "id": "176251c4",
   "metadata": {
    "execution": {
     "iopub.execute_input": "2023-11-16T15:03:00.239488Z",
     "iopub.status.busy": "2023-11-16T15:03:00.238985Z",
     "iopub.status.idle": "2023-11-16T15:03:00.245538Z",
     "shell.execute_reply": "2023-11-16T15:03:00.244469Z"
    },
    "papermill": {
     "duration": 0.022881,
     "end_time": "2023-11-16T15:03:00.247884",
     "exception": false,
     "start_time": "2023-11-16T15:03:00.225003",
     "status": "completed"
    },
    "tags": []
   },
   "outputs": [
    {
     "name": "stdout",
     "output_type": "stream",
     "text": [
      "y_pred  1 \t label 1 \t w_new [1 1] b_new 1\n",
      "y_pred  -1 \t label -1 \t w_new [0 1] b_new 0\n",
      "y_pred  -1 \t label -1 \t w_new [0 0] b_new -1\n",
      "y_pred  -1 \t label -1 \t w_new [0 0] b_new -2\n"
     ]
    }
   ],
   "source": [
    "hebbian_bipolar(data, label,w_old,b_old,b)"
   ]
  },
  {
   "cell_type": "code",
   "execution_count": 20,
   "id": "d098226f",
   "metadata": {
    "execution": {
     "iopub.execute_input": "2023-11-16T15:03:00.274383Z",
     "iopub.status.busy": "2023-11-16T15:03:00.274001Z",
     "iopub.status.idle": "2023-11-16T15:03:00.513265Z",
     "shell.execute_reply": "2023-11-16T15:03:00.512109Z"
    },
    "papermill": {
     "duration": 0.2552,
     "end_time": "2023-11-16T15:03:00.515558",
     "exception": false,
     "start_time": "2023-11-16T15:03:00.260358",
     "status": "completed"
    },
    "tags": []
   },
   "outputs": [
    {
     "name": "stderr",
     "output_type": "stream",
     "text": [
      "/tmp/ipykernel_19/2385000770.py:15: RuntimeWarning: invalid value encountered in scalar divide\n",
      "  test_x2 = -(w_new[1]/w_new[0])*test-b_new/w_new[0] # w1x1+w2x2+b=0  ->  x2=-(w1x1)/w2-b/w2\n",
      "/tmp/ipykernel_19/2385000770.py:15: RuntimeWarning: divide by zero encountered in scalar divide\n",
      "  test_x2 = -(w_new[1]/w_new[0])*test-b_new/w_new[0] # w1x1+w2x2+b=0  ->  x2=-(w1x1)/w2-b/w2\n"
     ]
    },
    {
     "data": {
      "text/plain": [
       "[<matplotlib.lines.Line2D at 0x79bb40324490>]"
      ]
     },
     "execution_count": 20,
     "metadata": {},
     "output_type": "execute_result"
    },
    {
     "data": {
      "image/png": "[encoded data removed]",
      "text/plain": [
       "<Figure size 640x480 with 1 Axes>"
      ]
     },
     "metadata": {},
     "output_type": "display_data"
    }
   ],
   "source": [
    "plots(data, label,w_old,b_old,b)"
   ]
  },
  {
   "cell_type": "markdown",
   "id": "eef6ad09",
   "metadata": {
    "papermill": {
     "duration": 0.01269,
     "end_time": "2023-11-16T15:03:00.541095",
     "exception": false,
     "start_time": "2023-11-16T15:03:00.528405",
     "status": "completed"
    },
    "tags": []
   },
   "source": [
    "# <font style=\"background-color:aqua\" size=\"+2\" > Note: in step 5, we can't draw a line because the weights are 0 at the last time, we only have bias(b), so we can't draw a line, we can only explain the answer.</font>"
   ]
  },
  {
   "cell_type": "markdown",
   "id": "5d6c4368",
   "metadata": {
    "papermill": {
     "duration": 0.012793,
     "end_time": "2023-11-16T15:03:00.567872",
     "exception": false,
     "start_time": "2023-11-16T15:03:00.555079",
     "status": "completed"
    },
    "tags": []
   },
   "source": [
    "## <font  color=\"blue\" style=\"background-color:#48f267\" >***Step6:AND function with hebbian learning***</font><a class=\"anchor\"  id=\"h19\"></a>\n",
    "### <font  color=\"blue\" style=\"background-color:#f957e1\" >***inputs: binary***</font><a class=\"anchor\"  id=\"h20\"></a>\n",
    "### <font  color=\"blue\" style=\"background-color:#f957e1\" >***outputs: binary***</font><a class=\"anchor\"  id=\"h21\"></a>"
   ]
  },
  {
   "cell_type": "code",
   "execution_count": 21,
   "id": "3485bbd8",
   "metadata": {
    "execution": {
     "iopub.execute_input": "2023-11-16T15:03:00.595766Z",
     "iopub.status.busy": "2023-11-16T15:03:00.594741Z",
     "iopub.status.idle": "2023-11-16T15:03:00.599787Z",
     "shell.execute_reply": "2023-11-16T15:03:00.599014Z"
    },
    "papermill": {
     "duration": 0.021525,
     "end_time": "2023-11-16T15:03:00.602108",
     "exception": false,
     "start_time": "2023-11-16T15:03:00.580583",
     "status": "completed"
    },
    "tags": []
   },
   "outputs": [],
   "source": [
    "data = np.array([[1,1],[1,0],[0,1],[0 , 0]])\n",
    "label=[1,0,0,0]"
   ]
  },
  {
   "cell_type": "code",
   "execution_count": 22,
   "id": "0789edf6",
   "metadata": {
    "execution": {
     "iopub.execute_input": "2023-11-16T15:03:00.629881Z",
     "iopub.status.busy": "2023-11-16T15:03:00.628898Z",
     "iopub.status.idle": "2023-11-16T15:03:00.635617Z",
     "shell.execute_reply": "2023-11-16T15:03:00.634527Z"
    },
    "papermill": {
     "duration": 0.022883,
     "end_time": "2023-11-16T15:03:00.637934",
     "exception": false,
     "start_time": "2023-11-16T15:03:00.615051",
     "status": "completed"
    },
    "tags": []
   },
   "outputs": [
    {
     "name": "stdout",
     "output_type": "stream",
     "text": [
      "y_pred  1 \t label 1 \t w_new [1 1] b_new 1\n",
      "y_pred  1 \t label 0 \t w_new [1 1] b_new 1\n",
      "y_pred  1 \t label 0 \t w_new [1 1] b_new 1\n",
      "y_pred  1 \t label 0 \t w_new [1 1] b_new 1\n"
     ]
    }
   ],
   "source": [
    "hebbian_binary(data, label,w_old,b_old,b)"
   ]
  },
  {
   "cell_type": "code",
   "execution_count": 23,
   "id": "2ce6f79f",
   "metadata": {
    "execution": {
     "iopub.execute_input": "2023-11-16T15:03:00.665340Z",
     "iopub.status.busy": "2023-11-16T15:03:00.664925Z",
     "iopub.status.idle": "2023-11-16T15:03:00.939922Z",
     "shell.execute_reply": "2023-11-16T15:03:00.938687Z"
    },
    "papermill": {
     "duration": 0.291552,
     "end_time": "2023-11-16T15:03:00.942400",
     "exception": false,
     "start_time": "2023-11-16T15:03:00.650848",
     "status": "completed"
    },
    "tags": []
   },
   "outputs": [
    {
     "data": {
      "text/plain": [
       "[<matplotlib.lines.Line2D at 0x79bb40391090>]"
      ]
     },
     "execution_count": 23,
     "metadata": {},
     "output_type": "execute_result"
    },
    {
     "data": {
      "image/png": "[encoded data removed]",
      "text/plain": [
       "<Figure size 640x480 with 1 Axes>"
      ]
     },
     "metadata": {},
     "output_type": "display_data"
    }
   ],
   "source": [
    "plots(data, label,w_old,b_old,b)"
   ]
  },
  {
   "cell_type": "markdown",
   "id": "afc77788",
   "metadata": {
    "papermill": {
     "duration": 0.015058,
     "end_time": "2023-11-16T15:03:00.970740",
     "exception": false,
     "start_time": "2023-11-16T15:03:00.955682",
     "status": "completed"
    },
    "tags": []
   },
   "source": [
    "## <font  color=\"blue\" style=\"background-color:#48f267\" >***Step7:OR function with hebbian learning***</font><a class=\"anchor\"  id=\"h22\"></a>\n",
    "### <font  color=\"blue\" style=\"background-color:#f957e1\" >***inputs: binary***</font><a class=\"anchor\"  id=\"h23\"></a>\n",
    "### <font  color=\"blue\" style=\"background-color:#f957e1\" >***outputs: bipolar***</font><a class=\"anchor\"  id=\"h24\"></a>"
   ]
  },
  {
   "cell_type": "code",
   "execution_count": 24,
   "id": "82cdba6f",
   "metadata": {
    "execution": {
     "iopub.execute_input": "2023-11-16T15:03:00.999273Z",
     "iopub.status.busy": "2023-11-16T15:03:00.998862Z",
     "iopub.status.idle": "2023-11-16T15:03:01.004331Z",
     "shell.execute_reply": "2023-11-16T15:03:01.003036Z"
    },
    "papermill": {
     "duration": 0.022566,
     "end_time": "2023-11-16T15:03:01.006790",
     "exception": false,
     "start_time": "2023-11-16T15:03:00.984224",
     "status": "completed"
    },
    "tags": []
   },
   "outputs": [],
   "source": [
    "data = np.array([[1,1],[1,0],[0,1],[0 , 0]])\n",
    "label=[1,1,1,-1]"
   ]
  },
  {
   "cell_type": "code",
   "execution_count": 25,
   "id": "38b91575",
   "metadata": {
    "execution": {
     "iopub.execute_input": "2023-11-16T15:03:01.036234Z",
     "iopub.status.busy": "2023-11-16T15:03:01.035585Z",
     "iopub.status.idle": "2023-11-16T15:03:01.042715Z",
     "shell.execute_reply": "2023-11-16T15:03:01.041510Z"
    },
    "papermill": {
     "duration": 0.024339,
     "end_time": "2023-11-16T15:03:01.045131",
     "exception": false,
     "start_time": "2023-11-16T15:03:01.020792",
     "status": "completed"
    },
    "tags": []
   },
   "outputs": [
    {
     "name": "stdout",
     "output_type": "stream",
     "text": [
      "y_pred  1 \t label 1 \t w_new [1 1] b_new 1\n",
      "y_pred  1 \t label 1 \t w_new [2 1] b_new 2\n",
      "y_pred  1 \t label 1 \t w_new [2 2] b_new 3\n",
      "y_pred  -1 \t label -1 \t w_new [2 2] b_new 2\n"
     ]
    }
   ],
   "source": [
    "hebbian_bipolar(data, label,w_old,b_old,b)"
   ]
  },
  {
   "cell_type": "code",
   "execution_count": 26,
   "id": "2a209746",
   "metadata": {
    "execution": {
     "iopub.execute_input": "2023-11-16T15:03:01.074112Z",
     "iopub.status.busy": "2023-11-16T15:03:01.073701Z",
     "iopub.status.idle": "2023-11-16T15:03:01.353596Z",
     "shell.execute_reply": "2023-11-16T15:03:01.352361Z"
    },
    "papermill": {
     "duration": 0.29732,
     "end_time": "2023-11-16T15:03:01.356042",
     "exception": false,
     "start_time": "2023-11-16T15:03:01.058722",
     "status": "completed"
    },
    "tags": []
   },
   "outputs": [
    {
     "data": {
      "text/plain": [
       "[<matplotlib.lines.Line2D at 0x79bb40215a50>]"
      ]
     },
     "execution_count": 26,
     "metadata": {},
     "output_type": "execute_result"
    },
    {
     "data": {
      "image/png": "[encoded data removed]",
      "text/plain": [
       "<Figure size 640x480 with 1 Axes>"
      ]
     },
     "metadata": {},
     "output_type": "display_data"
    }
   ],
   "source": [
    "plots(data, label,w_old,b_old,b)"
   ]
  },
  {
   "cell_type": "markdown",
   "id": "971482f1",
   "metadata": {
    "papermill": {
     "duration": 0.013652,
     "end_time": "2023-11-16T15:03:01.383764",
     "exception": false,
     "start_time": "2023-11-16T15:03:01.370112",
     "status": "completed"
    },
    "tags": []
   },
   "source": [
    "## <font  color=\"blue\" style=\"background-color:#48f267\" >***Step8:OR function with hebbian learning***</font><a class=\"anchor\"  id=\"h25\"></a>\n",
    "### <font  color=\"blue\" style=\"background-color:#f957e1\" >***inputs: binary***</font><a class=\"anchor\"  id=\"h26\"></a>\n",
    "### <font  color=\"blue\" style=\"background-color:#f957e1\" >***outputs: binary***</font><a class=\"anchor\"  id=\"h27\"></a>"
   ]
  },
  {
   "cell_type": "code",
   "execution_count": 27,
   "id": "0fcf2e5b",
   "metadata": {
    "execution": {
     "iopub.execute_input": "2023-11-16T15:03:01.414022Z",
     "iopub.status.busy": "2023-11-16T15:03:01.413611Z",
     "iopub.status.idle": "2023-11-16T15:03:01.419015Z",
     "shell.execute_reply": "2023-11-16T15:03:01.418040Z"
    },
    "papermill": {
     "duration": 0.023105,
     "end_time": "2023-11-16T15:03:01.421183",
     "exception": false,
     "start_time": "2023-11-16T15:03:01.398078",
     "status": "completed"
    },
    "tags": []
   },
   "outputs": [],
   "source": [
    "data = np.array([[1,1],[1,0],[0,1],[0 , 0]])\n",
    "label=[1,1,1,0]"
   ]
  },
  {
   "cell_type": "code",
   "execution_count": 28,
   "id": "8f2f908f",
   "metadata": {
    "execution": {
     "iopub.execute_input": "2023-11-16T15:03:01.451152Z",
     "iopub.status.busy": "2023-11-16T15:03:01.450764Z",
     "iopub.status.idle": "2023-11-16T15:03:01.457422Z",
     "shell.execute_reply": "2023-11-16T15:03:01.456185Z"
    },
    "papermill": {
     "duration": 0.024476,
     "end_time": "2023-11-16T15:03:01.459829",
     "exception": false,
     "start_time": "2023-11-16T15:03:01.435353",
     "status": "completed"
    },
    "tags": []
   },
   "outputs": [
    {
     "name": "stdout",
     "output_type": "stream",
     "text": [
      "y_pred  1 \t label 1 \t w_new [1 1] b_new 1\n",
      "y_pred  1 \t label 1 \t w_new [2 1] b_new 2\n",
      "y_pred  1 \t label 1 \t w_new [2 2] b_new 3\n",
      "y_pred  1 \t label 0 \t w_new [2 2] b_new 3\n"
     ]
    }
   ],
   "source": [
    "hebbian_binary(data, label,w_old,b_old,b)"
   ]
  },
  {
   "cell_type": "code",
   "execution_count": 29,
   "id": "1d8de75b",
   "metadata": {
    "execution": {
     "iopub.execute_input": "2023-11-16T15:03:01.490454Z",
     "iopub.status.busy": "2023-11-16T15:03:01.490043Z",
     "iopub.status.idle": "2023-11-16T15:03:01.835729Z",
     "shell.execute_reply": "2023-11-16T15:03:01.834613Z"
    },
    "papermill": {
     "duration": 0.363785,
     "end_time": "2023-11-16T15:03:01.838153",
     "exception": false,
     "start_time": "2023-11-16T15:03:01.474368",
     "status": "completed"
    },
    "tags": []
   },
   "outputs": [
    {
     "data": {
      "text/plain": [
       "[<matplotlib.lines.Line2D at 0x79bb402a29e0>]"
      ]
     },
     "execution_count": 29,
     "metadata": {},
     "output_type": "execute_result"
    },
    {
     "data": {
      "image/png": "[encoded data removed]",
      "text/plain": [
       "<Figure size 640x480 with 1 Axes>"
      ]
     },
     "metadata": {},
     "output_type": "display_data"
    }
   ],
   "source": [
    "plots(data, label,w_old,b_old,b)"
   ]
  },
  {
   "cell_type": "markdown",
   "id": "e3f9ba83",
   "metadata": {
    "papermill": {
     "duration": 0.014382,
     "end_time": "2023-11-16T15:03:01.867471",
     "exception": false,
     "start_time": "2023-11-16T15:03:01.853089",
     "status": "completed"
    },
    "tags": []
   },
   "source": [
    "## <font  color=\"blue\" style=\"background-color:#48f267\" >***Step9:Conclusion***</font><a class=\"anchor\"  id=\"h28\"></a>\n",
    "# <font  color=\"blue\" style=\"background-color:#18DEDE\" size=\"+2\" >***We can understand that this rule is not very strong, because it cannot classify all questions correctly.***</font>\n",
    "# <font  color=\"blue\" style=\"background-color:#18DEDE\" size=\"+2\" >***But we can understand that for bipolar information it can classify better than binary information.***</font>"
   ]
  },
  {
   "cell_type": "markdown",
   "id": "018ce7b4",
   "metadata": {
    "papermill": {
     "duration": 0.014358,
     "end_time": "2023-11-16T15:03:01.896608",
     "exception": false,
     "start_time": "2023-11-16T15:03:01.882250",
     "status": "completed"
    },
    "tags": []
   },
   "source": [
    "# <center><font  color=\"blue\" style=\"background-color:#48f267\" size=\"+8\">***Finish***</font></center>"
   ]
  }
 ],
 "metadata": {
  "kaggle": {
   "accelerator": "none",
   "dataSources": [],
   "dockerImageVersionId": 30587,
   "isGpuEnabled": false,
   "isInternetEnabled": true,
   "language": "python",
   "sourceType": "notebook"
  },
  "kernelspec": {
   "display_name": "Python 3 (ipykernel)",
   "language": "python",
   "name": "python3"
  },
  "language_info": {
   "codemirror_mode": {
    "name": "ipython",
    "version": 3
   },
   "file_extension": ".py",
   "mimetype": "text/x-python",
   "name": "python",
   "nbconvert_exporter": "python",
   "pygments_lexer": "ipython3",
   "version": "3.11.2"
  },
  "papermill": {
   "default_parameters": {},
   "duration": 8.381267,
   "end_time": "2023-11-16T15:03:02.331287",
   "environment_variables": {},
   "exception": null,
   "input_path": "__notebook__.ipynb",
   "output_path": "__notebook__.ipynb",
   "parameters": {},
   "start_time": "2023-11-16T15:02:53.950020",
   "version": "2.4.0"
  }
 },
 "nbformat": 4,
 "nbformat_minor": 5
}
